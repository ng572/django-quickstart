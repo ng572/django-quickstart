{
 "cells": [
  {
   "cell_type": "code",
   "execution_count": 3,
   "id": "7685cb9a",
   "metadata": {},
   "outputs": [
    {
     "name": "stdout",
     "output_type": "stream",
     "text": [
      "Collecting django\n",
      "  Downloading https://files.pythonhosted.org/packages/37/a1/790e01bf4348dd68090d47108052a8130954d473d54b4ea7924f5bb154de/Django-3.2.5-py3-none-any.whl (7.9MB)\n",
      "\u001b[K    100% |████████████████████████████████| 7.9MB 259kB/s ta 0:00:011\n",
      "\u001b[?25hCollecting pytz (from django)\n",
      "  Downloading https://files.pythonhosted.org/packages/70/94/784178ca5dd892a98f113cdd923372024dc04b8d40abe77ca76b5fb90ca6/pytz-2021.1-py2.py3-none-any.whl (510kB)\n",
      "\u001b[K    100% |████████████████████████████████| 512kB 2.1MB/s ta 0:00:01\n",
      "\u001b[?25hCollecting asgiref<4,>=3.3.2 (from django)\n",
      "  Downloading https://files.pythonhosted.org/packages/fe/66/577f32b54c50dcd8dec38447258e82ed327ecb86820d67ae7b3dea784f13/asgiref-3.4.1-py3-none-any.whl\n",
      "Collecting sqlparse>=0.2.2 (from django)\n",
      "  Downloading https://files.pythonhosted.org/packages/14/05/6e8eb62ca685b10e34051a80d7ea94b7137369d8c0be5c3b9d9b6e3f5dae/sqlparse-0.4.1-py3-none-any.whl (42kB)\n",
      "\u001b[K    100% |████████████████████████████████| 51kB 1.5MB/s ta 0:00:011\n",
      "\u001b[?25hCollecting typing-extensions; python_version < \"3.8\" (from asgiref<4,>=3.3.2->django)\n",
      "  Using cached https://files.pythonhosted.org/packages/2e/35/6c4fff5ab443b57116cb1aad46421fb719bed2825664e8fe77d66d99bcbc/typing_extensions-3.10.0.0-py3-none-any.whl\n",
      "Installing collected packages: pytz, typing-extensions, asgiref, sqlparse, django\n",
      "Successfully installed asgiref-3.4.1 django-3.2.5 pytz-2021.1 sqlparse-0.4.1 typing-extensions-3.10.0.0\n"
     ]
    }
   ],
   "source": [
    "!python3 -m pip install django"
   ]
  },
  {
   "cell_type": "code",
   "execution_count": 5,
   "id": "908c27d4",
   "metadata": {},
   "outputs": [
    {
     "name": "stdout",
     "output_type": "stream",
     "text": [
      "3.2.5\r\n",
      "\u001b[0m"
     ]
    }
   ],
   "source": [
    "!python3 -m django --version"
   ]
  },
  {
   "cell_type": "markdown",
   "id": "652abc1c",
   "metadata": {},
   "source": [
    "### where we left off\n",
    "https://docs.djangoproject.com/en/3.2/intro/tutorial02/"
   ]
  }
 ],
 "metadata": {
  "kernelspec": {
   "display_name": "Python 3",
   "language": "python",
   "name": "python3"
  },
  "language_info": {
   "codemirror_mode": {
    "name": "ipython",
    "version": 3
   },
   "file_extension": ".py",
   "mimetype": "text/x-python",
   "name": "python",
   "nbconvert_exporter": "python",
   "pygments_lexer": "ipython3",
   "version": "3.6.9"
  }
 },
 "nbformat": 4,
 "nbformat_minor": 5
}
